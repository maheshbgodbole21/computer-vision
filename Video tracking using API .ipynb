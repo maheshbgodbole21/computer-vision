{
 "cells": [
  {
   "cell_type": "code",
   "execution_count": 1,
   "metadata": {},
   "outputs": [],
   "source": [
    "import cv2"
   ]
  },
  {
   "cell_type": "code",
   "execution_count": 2,
   "metadata": {},
   "outputs": [],
   "source": [
    "def ask_for_tracker():\n",
    "    print(\"Select the tracking API want to use:\")\n",
    "    print('enter 0 for boosting')\n",
    "    print('enter 1 for MIL')\n",
    "    print('enter 2 for KCF')\n",
    "    print('enter 3 for TLD')\n",
    "    print('enter 4 for MEDIANFLOW')\n",
    "    \n",
    "    \n",
    "    choice = input('please select the tracker:')\n",
    "    \n",
    "    if choice=='0':\n",
    "        tracker = cv2.TrackerBoosting_create()\n",
    "        \n",
    "    if choice =='1':\n",
    "        tracker = cv2.TrackerMIL_create()\n",
    "        \n",
    "    if choice =='2':\n",
    "        tracker = cv2.TrackerKCF_create()\n",
    "        \n",
    "    if choice =='3':\n",
    "        tracker = cv2.TrackerTLD_create()\n",
    "        \n",
    "    if choice =='4':\n",
    "        tracker = cv2.TrackerMedianFlow_create()\n",
    "        \n",
    "    return tracker"
   ]
  },
  {
   "cell_type": "code",
   "execution_count": null,
   "metadata": {},
   "outputs": [],
   "source": [
    "tracker = ask_for_tracker()\n",
    "tracker_name = str(tracker).split()[0][1:]\n",
    "\n",
    "\n",
    "cap = cv2.VideoCapture(0)\n",
    "\n",
    "ret,frame = cap.read()\n",
    "\n",
    "roi = cv2.selectROI(frame,False)\n",
    "\n",
    "ret = tracker.init(frame,roi)\n",
    "\n",
    "while True:\n",
    "    \n",
    "    ret,frame = cap.read()\n",
    "    \n",
    "    success,roi = tracker.update(frame)\n",
    "    (x,y,w,h)=tuple(map(int,roi))\n",
    "    \n",
    "    if success:\n",
    "        p1=(x,y)\n",
    "        p2=(x+w,y+h)\n",
    "        cv2.rectangle(frame,p1,p2,(0,255,0),3)\n",
    "        \n",
    "    else:\n",
    "        cv2.putText(frame,\"failure to detect tracker\",(100,200),cv2.FRONT_HERSHEY_SIMPLEX,1,(0,0,255),3)\n",
    "        \n",
    "    cv2.putText(frame,tracker_name,(20,400),cv2.FONT_HERSHEY_SIMPLEX,1,(0,255,0),3)\n",
    "    \n",
    "    cv2.imshow(tracker_name,frame)\n",
    "    \n",
    "    k= cv2.waitKey(1)& 0Xff\n",
    "    if k == 27:\n",
    "        break\n",
    "        \n",
    "cap.release()\n",
    "cv2.destroyAllWindows()"
   ]
  }
 ],
 "metadata": {
  "kernelspec": {
   "display_name": "Python 3",
   "language": "python",
   "name": "python3"
  },
  "language_info": {
   "codemirror_mode": {
    "name": "ipython",
    "version": 3
   },
   "file_extension": ".py",
   "mimetype": "text/x-python",
   "name": "python",
   "nbconvert_exporter": "python",
   "pygments_lexer": "ipython3",
   "version": "3.7.7"
  }
 },
 "nbformat": 4,
 "nbformat_minor": 4
}
